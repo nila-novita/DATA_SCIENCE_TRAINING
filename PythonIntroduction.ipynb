{
 "cells": [
  {
   "cell_type": "code",
   "execution_count": 1,
   "id": "dc1c9da4-6259-4153-9255-645fe1b04a13",
   "metadata": {},
   "outputs": [
    {
     "data": {
      "text/plain": [
       "5"
      ]
     },
     "execution_count": 1,
     "metadata": {},
     "output_type": "execute_result"
    }
   ],
   "source": [
    "x = 5\n",
    "x"
   ]
  },
  {
   "cell_type": "code",
   "execution_count": null,
   "id": "286cec87-f7ad-4cb0-b8b6-4bb13ab25cbc",
   "metadata": {},
   "outputs": [],
   "source": [
    "x = 5\n",
    "x"
   ]
  },
  {
   "cell_type": "markdown",
   "id": "860f2f8b-fdb6-4f12-89f2-cfaa7488604b",
   "metadata": {},
   "source": [
    "Hi Monamoura\n"
   ]
  },
  {
   "cell_type": "code",
   "execution_count": null,
   "id": "aa45898c-4e5c-4e6e-ae83-c23ce708850f",
   "metadata": {},
   "outputs": [],
   "source": [
    "y = 4\n",
    "y"
   ]
  },
  {
   "cell_type": "code",
   "execution_count": null,
   "id": "37a8f1bf-f394-484b-94a5-3ed8079a88fd",
   "metadata": {},
   "outputs": [],
   "source": [
    "x = (1, 2, 3)\n",
    "x"
   ]
  },
  {
   "cell_type": "code",
   "execution_count": null,
   "id": "5ce7a779-5ec1-4733-b08f-52cc8dce4ce2",
   "metadata": {},
   "outputs": [],
   "source": []
  },
  {
   "cell_type": "code",
   "execution_count": null,
   "id": "34d86073-811d-43ea-9d6e-c7a1709fac85",
   "metadata": {},
   "outputs": [],
   "source": [
    "x = 100\n",
    "d = 'day'\n",
    "print(x,d)"
   ]
  },
  {
   "cell_type": "code",
   "execution_count": null,
   "id": "e83ab492-60eb-41c4-a97d-d1481a8985fa",
   "metadata": {},
   "outputs": [],
   "source": [
    "x = 100\n",
    "print(str(x), 'day')"
   ]
  },
  {
   "cell_type": "code",
   "execution_count": null,
   "id": "2513f997-7998-437d-b800-47864ba3a9f5",
   "metadata": {},
   "outputs": [],
   "source": [
    "x = 100\n",
    "print(str(x) + 'day')"
   ]
  },
  {
   "cell_type": "code",
   "execution_count": null,
   "id": "13784404-6bfc-41e4-bbed-2a76553a0e44",
   "metadata": {},
   "outputs": [],
   "source": [
    "\"It's cool, isn't it?\""
   ]
  },
  {
   "cell_type": "code",
   "execution_count": null,
   "id": "7d498e89-b8c3-4333-ac66-1696acf3c813",
   "metadata": {},
   "outputs": [],
   "source": [
    "print(\"It's cool, isn't it?\")"
   ]
  },
  {
   "cell_type": "code",
   "execution_count": null,
   "id": "32b29dc3-6c14-4ac1-9d2a-991efec52443",
   "metadata": {},
   "outputs": [],
   "source": [
    "print('Big' , 'Houses')"
   ]
  },
  {
   "cell_type": "code",
   "execution_count": null,
   "id": "c202aa91-61e3-484e-98fc-a5862f75226b",
   "metadata": {},
   "outputs": [],
   "source": [
    "print('Big ' 'Houses')"
   ]
  },
  {
   "cell_type": "code",
   "execution_count": null,
   "id": "7a13ec86-9a69-435e-a1ce-086886cf414f",
   "metadata": {},
   "outputs": [],
   "source": [
    "print('Big ' + 'Houses')"
   ]
  },
  {
   "cell_type": "code",
   "execution_count": null,
   "id": "8d3e85a2-fdb5-4b4f-b8af-9b90b6ff5799",
   "metadata": {},
   "outputs": [],
   "source": [
    "'Big ' + 'Houses'"
   ]
  },
  {
   "cell_type": "code",
   "execution_count": null,
   "id": "0590d38d-20eb-43ae-bf73-ab394e7369ed",
   "metadata": {},
   "outputs": [],
   "source": [
    "'Big' , 'Houses'"
   ]
  },
  {
   "cell_type": "code",
   "execution_count": null,
   "id": "7b8b6477-e23b-46cf-ab6d-9d5d612f2371",
   "metadata": {},
   "outputs": [],
   "source": [
    "x = \"joushua\"\n",
    "x"
   ]
  },
  {
   "cell_type": "code",
   "execution_count": null,
   "id": "76392741-6236-4da8-92ec-41208839acb0",
   "metadata": {},
   "outputs": [],
   "source": [
    "\"Aren't you hungry?\""
   ]
  },
  {
   "cell_type": "code",
   "execution_count": null,
   "id": "067fbb92-617b-46db-833d-ba9afd599ba7",
   "metadata": {},
   "outputs": [],
   "source": [
    "16/3"
   ]
  },
  {
   "cell_type": "code",
   "execution_count": null,
   "id": "a0a300e6-999e-46ed-a02c-68a350a7de27",
   "metadata": {},
   "outputs": [],
   "source": [
    "15**3"
   ]
  },
  {
   "cell_type": "code",
   "execution_count": null,
   "id": "25fccce7-951b-4207-9660-bdabbeaac4dc",
   "metadata": {},
   "outputs": [],
   "source": [
    "15^2"
   ]
  },
  {
   "cell_type": "code",
   "execution_count": null,
   "id": "a97ae538-8dc7-43a8-8035-897d2c71647b",
   "metadata": {},
   "outputs": [],
   "source": [
    "1523"
   ]
  },
  {
   "cell_type": "code",
   "execution_count": null,
   "id": "3bb38ba6-8b63-47e9-b070-d0d67eab3f1a",
   "metadata": {},
   "outputs": [],
   "source": [
    "y = 100"
   ]
  },
  {
   "cell_type": "code",
   "execution_count": null,
   "id": "d1b11a8a-e9e3-4c28-b1df-ef17d04bd18a",
   "metadata": {},
   "outputs": [],
   "source": [
    "y == 98"
   ]
  },
  {
   "cell_type": "code",
   "execution_count": null,
   "id": "8b6b29e9-fb2c-4c5f-a706-e9d373523d64",
   "metadata": {},
   "outputs": [],
   "source": [
    "100 == 98"
   ]
  },
  {
   "cell_type": "code",
   "execution_count": null,
   "id": "2cb919f4-6db1-488c-b0a2-1d770feecdd8",
   "metadata": {},
   "outputs": [],
   "source": [
    "1.5 * 2 + 5"
   ]
  },
  {
   "cell_type": "code",
   "execution_count": null,
   "id": "866d4f41-05d8-4bb2-b5d9-c7a866a76e83",
   "metadata": {},
   "outputs": [],
   "source": []
  },
  {
   "cell_type": "code",
   "execution_count": null,
   "id": "9ed11bd6-9eb2-4efe-a6da-37baa37fce42",
   "metadata": {},
   "outputs": [],
   "source": [
    "1.5 * 2 + \\\n",
    "5"
   ]
  },
  {
   "cell_type": "code",
   "execution_count": null,
   "id": "1deb454e-b603-41dc-88f2-5b846f64b52b",
   "metadata": {},
   "outputs": [],
   "source": [
    "15 + 31\n",
    "- 26"
   ]
  },
  {
   "cell_type": "code",
   "execution_count": null,
   "id": "80bdf8e6-a6e2-49ce-86c1-5b65f411bae0",
   "metadata": {},
   "outputs": [],
   "source": [
    "15 + 31 \\\n",
    "- 26"
   ]
  },
  {
   "cell_type": "code",
   "execution_count": null,
   "id": "b20d11d8-907c-4b56-94b7-0c7b3dd259fc",
   "metadata": {},
   "outputs": [],
   "source": [
    "\"Holidays\"[6]"
   ]
  },
  {
   "cell_type": "code",
   "execution_count": null,
   "id": "2092422d-e4d7-4cf1-9c3e-cdf8284a8659",
   "metadata": {},
   "outputs": [],
   "source": [
    "def nila(x=1,y=2):\n",
    "    y=5\n",
    "    y=6\n",
    "    return(x,y)"
   ]
  },
  {
   "cell_type": "code",
   "execution_count": null,
   "id": "fbeb0234-e328-4d82-8f88-e0b133ae6373",
   "metadata": {},
   "outputs": [],
   "source": [
    "def geom(p,l):\n",
    "    L = p*l\n",
    "    S = 4*p\n",
    "    return(L,S)"
   ]
  },
  {
   "cell_type": "code",
   "execution_count": null,
   "id": "9f760999-f2fa-4ee1-973d-fdf45eac7dd4",
   "metadata": {},
   "outputs": [],
   "source": [
    "luas, sisi = luas(4,5)"
   ]
  },
  {
   "cell_type": "code",
   "execution_count": null,
   "id": "db413db1-5103-4948-b8b4-45c9c68f3e2c",
   "metadata": {},
   "outputs": [],
   "source": [
    "print(y)"
   ]
  },
  {
   "cell_type": "code",
   "execution_count": null,
   "id": "34c5aab9-180b-491d-97b1-683c0571554f",
   "metadata": {},
   "outputs": [],
   "source": [
    "luas"
   ]
  },
  {
   "cell_type": "code",
   "execution_count": null,
   "id": "701f999e-43b6-49f2-bd8a-f2a70ee57d67",
   "metadata": {},
   "outputs": [],
   "source": [
    "sisi"
   ]
  },
  {
   "cell_type": "code",
   "execution_count": null,
   "id": "a65a1fa5-9f98-4867-98e9-a2cb20dc0905",
   "metadata": {},
   "outputs": [],
   "source": [
    "False or not True and not False"
   ]
  },
  {
   "cell_type": "code",
   "execution_count": null,
   "id": "d31fd1d5-e845-4e08-8c35-0da667d91974",
   "metadata": {},
   "outputs": [],
   "source": [
    "if 5 == 15/3:\n",
    "    print(\"Hooray!\")"
   ]
  },
  {
   "cell_type": "code",
   "execution_count": null,
   "id": "042ba53f-4736-490b-bcd4-fedc8f5adb0e",
   "metadata": {},
   "outputs": [],
   "source": [
    "if 6 == 15/3:\n",
    "    print(\"Hooray!\")"
   ]
  },
  {
   "cell_type": "code",
   "execution_count": null,
   "id": "06c83c70-7c7c-45f0-820e-bed9399ccc5b",
   "metadata": {},
   "outputs": [],
   "source": [
    "if 5 > 2:\n",
    "    print(\"The condition has been satisfied\")"
   ]
  },
  {
   "cell_type": "code",
   "execution_count": null,
   "id": "28230322-8bac-408d-b25f-56dd766dd42b",
   "metadata": {},
   "outputs": [],
   "source": [
    "x = 10\n",
    "y = 25\n",
    "if x > 3 and y > 13:\n",
    "    print(\"Both condition are correct\")\n",
    "\n",
    "if x <= 3 and y <= 13:\n",
    "    print(\"At least one of the conditions is false\")"
   ]
  },
  {
   "cell_type": "code",
   "execution_count": null,
   "id": "2bb7ffdd-b5e7-4f6f-8052-772b3a41f547",
   "metadata": {},
   "outputs": [],
   "source": [
    "if x <= 3 and y <= 13:\n",
    "    print(\"At least one of the conditions is false\")"
   ]
  },
  {
   "cell_type": "code",
   "execution_count": null,
   "id": "62dbd534-df7a-4bcd-b874-d184d1a198c8",
   "metadata": {},
   "outputs": [],
   "source": [
    "x = 10\n",
    "y = 25\n",
    "if x > 3 and y > 13:\n",
    "    print(\"Both conditions are correct\")\n",
    "\n",
    "if x <= 3 and y <= 13:\n",
    "    print(\"At least one of the conditions is false\")\n",
    "    \n",
    "x = 20\n",
    "y = 2"
   ]
  },
  {
   "cell_type": "code",
   "execution_count": null,
   "id": "3c17203a-68e4-47b0-abd8-75d4bd2f7a5b",
   "metadata": {},
   "outputs": [],
   "source": [
    "x,y = 3, 13\n",
    "x,y"
   ]
  },
  {
   "cell_type": "code",
   "execution_count": null,
   "id": "a764a452-0a20-4af6-9813-d9ed3a4ebab2",
   "metadata": {},
   "outputs": [],
   "source": [
    "x"
   ]
  },
  {
   "cell_type": "code",
   "execution_count": null,
   "id": "aed3b18e-1d07-4faa-9287-386be8044311",
   "metadata": {},
   "outputs": [],
   "source": [
    "y"
   ]
  },
  {
   "cell_type": "code",
   "execution_count": null,
   "id": "1c6a3ebb-8caa-4ad0-9511-20e67872ca24",
   "metadata": {},
   "outputs": [],
   "source": [
    "x = 10\n",
    "y = 20\n",
    "if x > 3 and y > 13:\n",
    "    print(\"Both conditions are correct\")\n"
   ]
  },
  {
   "cell_type": "code",
   "execution_count": null,
   "id": "d806e058-3960-485b-be7d-92a923a504c3",
   "metadata": {},
   "outputs": [],
   "source": [
    "if x <= 30 and y <= 193:\n",
    "    print(\"At least one of the conditions is false\")\n",
    "    "
   ]
  },
  {
   "cell_type": "code",
   "execution_count": null,
   "id": "95081a86-c321-4d32-afbf-6f26e1964f75",
   "metadata": {},
   "outputs": [],
   "source": [
    "def compare_to_five(y):\n",
    "    if y > 5:\n",
    "        return \"greater\"\n",
    "    elif y < 5:\n",
    "        return \"less\"\n",
    "    elif y < 0:\n",
    "        return \"negatif\"\n",
    "    else: \n",
    "        return \"equal\""
   ]
  },
  {
   "cell_type": "code",
   "execution_count": null,
   "id": "4dbfcc5e-94a3-4f65-a7e9-5639d339c821",
   "metadata": {},
   "outputs": [],
   "source": [
    "compare_to_five(-1)"
   ]
  },
  {
   "cell_type": "code",
   "execution_count": null,
   "id": "12edf05a-64a1-4dcb-8abb-7eb67231bfd3",
   "metadata": {},
   "outputs": [],
   "source": [
    "x = 500\n",
    "if x > 200:\n",
    "    print(\"Big\")\n",
    "elif x > 100 and x <= 200:\n",
    "    print(\"Average\")\n",
    "else: print(\"Small\")"
   ]
  },
  {
   "cell_type": "code",
   "execution_count": null,
   "id": "8883ac3b-145f-4a5d-8383-786d1ae95348",
   "metadata": {},
   "outputs": [],
   "source": [
    "if x > 200:\n",
    "    print(\"Big\")"
   ]
  },
  {
   "cell_type": "code",
   "execution_count": null,
   "id": "06ca3dbd-77ad-4ae7-8ac8-e03fc4d8ddf9",
   "metadata": {},
   "outputs": [],
   "source": [
    "x = -200\n",
    "\n",
    "if x > 200: \n",
    "    print (\"Big\")\n",
    "elif x > 100 and x <= 200:\n",
    "    print (\"Average\")\n",
    "elif x >= 0 and x <= 100:\n",
    "    print(\"Small\")\n",
    "elif x<100:\n",
    "    print(\"Negative\")"
   ]
  },
  {
   "cell_type": "code",
   "execution_count": null,
   "id": "719ee8a8-b418-4be7-908f-e73615a468f9",
   "metadata": {},
   "outputs": [],
   "source": [
    "def nila():\n",
    "    print(\"umma monamoura\")\n",
    "nila()"
   ]
  },
  {
   "cell_type": "code",
   "execution_count": null,
   "id": "dcd6c2eb-2a82-4686-a8ac-b50eea56fe62",
   "metadata": {},
   "outputs": [],
   "source": [
    "def pian(x):\n",
    "    y = 2 + x\n",
    "    return(y)"
   ]
  },
  {
   "cell_type": "code",
   "execution_count": null,
   "id": "6c10f63d-b5e6-4a78-aa6c-84cc9502a5fb",
   "metadata": {},
   "outputs": [],
   "source": [
    "pian(4)"
   ]
  },
  {
   "cell_type": "code",
   "execution_count": null,
   "id": "ac3d2ae2-b676-4d96-bf28-d8b11d062df5",
   "metadata": {},
   "outputs": [],
   "source": [
    "pian(-4)"
   ]
  },
  {
   "cell_type": "code",
   "execution_count": null,
   "id": "a6546116-cc4b-4fd8-82ad-af6ec8dc83fb",
   "metadata": {},
   "outputs": [],
   "source": [
    "pian(0)"
   ]
  },
  {
   "cell_type": "code",
   "execution_count": null,
   "id": "27cb5c7a-99c2-440e-906a-a34faafd4665",
   "metadata": {},
   "outputs": [],
   "source": [
    "def multiplication_by_2(x):\n",
    "    y = x*2\n",
    "    return(y)"
   ]
  },
  {
   "cell_type": "code",
   "execution_count": null,
   "id": "8e945338-33e9-4c26-b9ce-53e6c14873f4",
   "metadata": {},
   "outputs": [],
   "source": [
    "multiplication_by_2(5)"
   ]
  },
  {
   "cell_type": "code",
   "execution_count": null,
   "id": "561fa921-a216-44bb-9a5f-ba408ac405e7",
   "metadata": {},
   "outputs": [],
   "source": [
    "def exponentiation_exp_2(x):\n",
    "    result = x**2 \n",
    "    print(\"Raised to the power of two\")\n",
    "    return result"
   ]
  },
  {
   "cell_type": "code",
   "execution_count": null,
   "id": "7aad8db7-c656-49d9-b8c8-f129d3796071",
   "metadata": {},
   "outputs": [],
   "source": [
    "exponentiation_exp_2(3)"
   ]
  },
  {
   "cell_type": "code",
   "execution_count": null,
   "id": "6ae47d8a-8299-496d-a65c-cacb877b80a7",
   "metadata": {},
   "outputs": [],
   "source": [
    "def exponentiation_exp_2(x):\n",
    "    result = x**2\n",
    "    print(\"Raised to the power of two\")\n",
    "    return result"
   ]
  },
  {
   "cell_type": "code",
   "execution_count": null,
   "id": "62282c09-66ff-4b68-a65f-d0037ce70248",
   "metadata": {},
   "outputs": [],
   "source": [
    "exponentiation_exp_2(2)"
   ]
  },
  {
   "cell_type": "code",
   "execution_count": null,
   "id": "357cdd72-35bd-4d4a-8234-57213392a030",
   "metadata": {},
   "outputs": [],
   "source": [
    "def exponentiation_exp_2(x):\n",
    "    result = x**2\n",
    "    return (result, \"Raised to the power of two\")"
   ]
  },
  {
   "cell_type": "code",
   "execution_count": null,
   "id": "600783cc-e202-4fa8-ae37-588268f86339",
   "metadata": {},
   "outputs": [],
   "source": [
    "def exponentiation_exp_2(x):\n",
    "    result = x**2\n",
    "    return (result, print(\"Raised to the power of two\"))\n",
    "    \n",
    "exponentiation_exp_2(0)"
   ]
  },
  {
   "cell_type": "code",
   "execution_count": null,
   "id": "c1d420db-206b-4c0b-a47d-e21e14c1811d",
   "metadata": {},
   "outputs": [],
   "source": [
    "def exponentiation_exp_2(x):\n",
    "    result = x**2\n",
    "    print(\"Raised to the power of 2:\")\n",
    "    return result\n",
    "exponentiation_exp_2(0)"
   ]
  },
  {
   "cell_type": "code",
   "execution_count": null,
   "id": "74190f86-c31c-4132-b460-ecb5c3e0c6f7",
   "metadata": {},
   "outputs": [],
   "source": [
    "#function in function \n",
    "\n",
    "def plus_five(x):\n",
    "    return x + 5\n",
    "    \n",
    "def m_by_3(x):\n",
    "    return plus_five(x) * 3\n",
    "    \n",
    "m_by_3(5)"
   ]
  },
  {
   "cell_type": "code",
   "execution_count": null,
   "id": "6f34f4c5-8b84-4da5-b063-107a809b1ea9",
   "metadata": {},
   "outputs": [],
   "source": [
    "def save_money(x):\n",
    "    if x >= 100:\n",
    "        x = x + 10\n",
    "        return x\n",
    "    else: \n",
    "        return x"
   ]
  },
  {
   "cell_type": "code",
   "execution_count": null,
   "id": "bb8ed6fe-ae57-47ce-aaf9-a9f3dd4486bb",
   "metadata": {},
   "outputs": [],
   "source": [
    "save_money(180)"
   ]
  },
  {
   "cell_type": "code",
   "execution_count": null,
   "id": "d4bec7f9-5cf5-4e99-acb1-fcdd23aa87bd",
   "metadata": {},
   "outputs": [],
   "source": [
    "def compare_the_two(x,y):\n",
    "    if x > y:\n",
    "        result = \"Greater\"\n",
    "        return result\n",
    "    elif x == y:\n",
    "        result = \"Equal\"\n",
    "        return result\n",
    "    elif x < y:\n",
    "        result = \"Less\"\n",
    "        return result"
   ]
  },
  {
   "cell_type": "code",
   "execution_count": null,
   "id": "d47d0d73-9fcc-4d18-be9a-d0397e877f4a",
   "metadata": {},
   "outputs": [],
   "source": [
    "compare_the_two(5,5)"
   ]
  },
  {
   "cell_type": "code",
   "execution_count": null,
   "id": "4c63b488-4af5-475b-afbd-db99692bfe86",
   "metadata": {},
   "outputs": [],
   "source": [
    "def compare_the_two(x,y):\n",
    "    if x > y:\n",
    "        return print(\"Greater\")\n",
    "    elif x < y:\n",
    "        return print(\"Less\")\n",
    "    elif x == y:\n",
    "        return print(\"Equal\")"
   ]
  },
  {
   "cell_type": "code",
   "execution_count": null,
   "id": "aac19320-9a2e-48e6-9cb8-c352faec4d3f",
   "metadata": {},
   "outputs": [],
   "source": [
    "def compare_the_two(x,y):\n",
    "    if x > y:\n",
    "        print(\"Greater\")\n",
    "    elif x < y:\n",
    "        print(\"Less\")\n",
    "    elif x == y:\n",
    "        print(\"Equal\")\n",
    "\n",
    "compare_the_two(6,5)"
   ]
  },
  {
   "cell_type": "code",
   "execution_count": null,
   "id": "62c0a4ed-e0e8-4650-a093-c40f3e04dd86",
   "metadata": {},
   "outputs": [],
   "source": [
    "def subtract_bc(a,b,c):\n",
    "    result = a - b*c\n",
    "    print ('Parameter a equals', a)\n",
    "    print ('Parameter b equals', b)\n",
    "    print ('Parameter c equals', c)\n",
    "    return result"
   ]
  },
  {
   "cell_type": "code",
   "execution_count": null,
   "id": "5b7aa065-b0f1-4cb5-820c-a7952c5cfe58",
   "metadata": {},
   "outputs": [],
   "source": [
    "x = len(\"Elephant\")\n",
    "type(x)"
   ]
  },
  {
   "cell_type": "code",
   "execution_count": null,
   "id": "6b734bb6-0484-4cf9-b35b-19ab9676ed60",
   "metadata": {},
   "outputs": [],
   "source": [
    "def distance_from_zero(x):\n",
    "    if type(x) == int:\n",
    "        absolut = abs(x)\n",
    "        return absolut\n",
    "    elif type(x) != int:\n",
    "        return print(\"Not possible\")"
   ]
  },
  {
   "cell_type": "code",
   "execution_count": null,
   "id": "b77631b5-8667-4aa1-b3d8-8bebd51c707d",
   "metadata": {},
   "outputs": [],
   "source": [
    "distance_from_zero(\"cat\")"
   ]
  },
  {
   "cell_type": "code",
   "execution_count": null,
   "id": "dba5b572-f6cb-4dc2-a2a0-670f8fee34a4",
   "metadata": {},
   "outputs": [],
   "source": [
    "Numbers = [\"20\", \"25\", \"40\", \"50\"]\n",
    "Numbers[2]"
   ]
  },
  {
   "cell_type": "code",
   "execution_count": null,
   "id": "6c04669d-4ae1-4190-9940-102b548d8d06",
   "metadata": {},
   "outputs": [],
   "source": [
    "#numbers tdk perlu kutip\n",
    "Numbers2 = [20, 25, 40, 50]\n",
    "Numbers2[2]"
   ]
  },
  {
   "cell_type": "code",
   "execution_count": null,
   "id": "9104f4c1-fa96-4f97-b89e-bb339f79d534",
   "metadata": {},
   "outputs": [],
   "source": [
    "type(Numbers)"
   ]
  },
  {
   "cell_type": "code",
   "execution_count": null,
   "id": "c0326aad-ca85-4ddb-8492-5e93135a0c6d",
   "metadata": {},
   "outputs": [],
   "source": [
    "type(Numbers2)"
   ]
  },
  {
   "cell_type": "code",
   "execution_count": null,
   "id": "0329c94d-34fd-4b26-a99c-69e850c29750",
   "metadata": {},
   "outputs": [],
   "source": [
    "Numbers = [10, 25, 40, 50]\n",
    "Numbers[-3]"
   ]
  },
  {
   "cell_type": "code",
   "execution_count": null,
   "id": "381b5815-ecd6-4a69-9944-0b8f68a6ec0d",
   "metadata": {},
   "outputs": [],
   "source": [
    "Numbers = [10, 25, 40, 50]\n",
    "Numbers[0] = 15"
   ]
  },
  {
   "cell_type": "code",
   "execution_count": null,
   "id": "d8ef44d4-b9b8-4927-96d4-14c02cc80168",
   "metadata": {},
   "outputs": [],
   "source": [
    "Numbers"
   ]
  },
  {
   "cell_type": "code",
   "execution_count": null,
   "id": "1bc34580-6c4b-422e-829f-3f6067ca9809",
   "metadata": {},
   "outputs": [],
   "source": [
    "Numbers = [10, 25, 40, 50]\n",
    "del Numbers[1]"
   ]
  },
  {
   "cell_type": "code",
   "execution_count": null,
   "id": "41de91f4-6881-4f2f-aa65-c665fd09e140",
   "metadata": {},
   "outputs": [],
   "source": [
    "Numbers"
   ]
  },
  {
   "cell_type": "code",
   "execution_count": null,
   "id": "3a71679b-1221-4dbf-984b-4064b813afbc",
   "metadata": {},
   "outputs": [],
   "source": [
    "Numbers = [15, 40, 50]\n",
    "Numbers.append(100)"
   ]
  },
  {
   "cell_type": "code",
   "execution_count": null,
   "id": "3d1de594-161a-4494-8531-27ff3efe0ed6",
   "metadata": {},
   "outputs": [],
   "source": [
    "Numbers"
   ]
  },
  {
   "cell_type": "code",
   "execution_count": null,
   "id": "f649fbf5-bb45-4a6d-812a-08d333125bec",
   "metadata": {},
   "outputs": [],
   "source": [
    "Numbers[4]"
   ]
  },
  {
   "cell_type": "code",
   "execution_count": null,
   "id": "9071bbdb-5af3-48c6-aeca-0c5e1dfd5f8c",
   "metadata": {},
   "outputs": [],
   "source": [
    "Numbers = [15, 40, 50, 100]\n",
    "Numbers.extend([115,140])"
   ]
  },
  {
   "cell_type": "markdown",
   "id": "efe8c992-581b-4a56-bc77-f4c076b903ff",
   "metadata": {},
   "source": [
    "Numbers = [15, 40, 50, 100, 115, 140]\n",
    "print(\"The fourth element of the Numbers list is\" + Numbers[4]+ .)"
   ]
  },
  {
   "cell_type": "code",
   "execution_count": null,
   "id": "93789152-736b-441b-bf67-6ddd0389d1fe",
   "metadata": {},
   "outputs": [],
   "source": [
    "Numbers = [15, 40, 50, 100, 115, 140]\n",
    "print('The fourth element of the Numbers list is', Numbers[4], '.')"
   ]
  },
  {
   "cell_type": "code",
   "execution_count": null,
   "id": "d6c7f164-8a15-4ee2-bb3a-658f663fabe7",
   "metadata": {},
   "outputs": [],
   "source": [
    "type(Numbers)"
   ]
  },
  {
   "cell_type": "code",
   "execution_count": null,
   "id": "d2054782-1ede-4850-a6d7-09cefb7589a8",
   "metadata": {},
   "outputs": [],
   "source": [
    "#slicing\n",
    "Numbers = [15, 40, 50, 100, 115, 140]\n",
    "Numbers[3:5]"
   ]
  },
  {
   "cell_type": "code",
   "execution_count": null,
   "id": "0c41a3f1-48b0-4c70-99f4-642edc1811bb",
   "metadata": {},
   "outputs": [],
   "source": [
    "Numbers = [15, 40, 50, 100, 115, 140]\n",
    "Numbers[:4]"
   ]
  },
  {
   "cell_type": "code",
   "execution_count": null,
   "id": "e5c3484d-09c6-4558-a380-1e98f3dcf818",
   "metadata": {},
   "outputs": [],
   "source": [
    "Numbers = [15, 40, 50, 100, 115, 140]\n",
    "Numbers[3:]"
   ]
  },
  {
   "cell_type": "code",
   "execution_count": null,
   "id": "f5b9be93-191c-4c07-b066-9a93b3a15768",
   "metadata": {},
   "outputs": [],
   "source": [
    "Numbers = [15, 40, 50, 100, 115, 140]\n",
    "Numbers[-4:]"
   ]
  },
  {
   "cell_type": "code",
   "execution_count": null,
   "id": "ef276ef0-8482-4868-bf1f-0261b020ab06",
   "metadata": {},
   "outputs": [],
   "source": [
    "Numbers = [15, 40, 50, 100, 115, 140]\n",
    "Numbers.index(15)"
   ]
  },
  {
   "cell_type": "code",
   "execution_count": null,
   "id": "4893bf88-96d3-4559-b2e6-90ab0f59b4e0",
   "metadata": {},
   "outputs": [],
   "source": [
    "Numbers = [15, 40, 50, 100, 115, 140]\n",
    "Two_Numbers = [1,2]\n",
    "\n",
    "All_Numbers =  [Two_Numbers, Numbers]"
   ]
  },
  {
   "cell_type": "code",
   "execution_count": null,
   "id": "fc9b5c07-b65f-456b-94c7-19692ddeb6f7",
   "metadata": {},
   "outputs": [],
   "source": [
    "All_Numbers"
   ]
  },
  {
   "cell_type": "code",
   "execution_count": null,
   "id": "33045723-5700-4767-85c8-a7c783f05c8f",
   "metadata": {},
   "outputs": [],
   "source": [
    "Numbers = [15, 40, 50, 100, 115, 140]\n",
    "Numbers.sort(reverse=True)\n",
    "Numbers"
   ]
  },
  {
   "cell_type": "code",
   "execution_count": null,
   "id": "9f1ae7d9-76c9-4a23-bdff-1ecef38b6dca",
   "metadata": {},
   "outputs": [],
   "source": [
    "Cars = (\"BMW\", \"Dodge\", \"Ford\")\n",
    "Cars[1]"
   ]
  },
  {
   "cell_type": "code",
   "execution_count": null,
   "id": "8d42d7e6-0586-4b91-aac2-e2dbd2eb0200",
   "metadata": {},
   "outputs": [],
   "source": [
    "name, age = ('Peter','24')\n",
    "name"
   ]
  },
  {
   "cell_type": "code",
   "execution_count": null,
   "id": "c520be00-26cf-4fb0-bbd5-00aca67729af",
   "metadata": {},
   "outputs": [],
   "source": [
    "name, age = 'Peter,24'.split(',')\n",
    "print(name)\n",
    "print(age)"
   ]
  },
  {
   "cell_type": "code",
   "execution_count": null,
   "id": "7acf57ea-2dfc-4c86-bb34-874cf69105d5",
   "metadata": {},
   "outputs": [],
   "source": [
    "def rectangle_info(l,w):\n",
    "    area = l*w\n",
    "    return area\n",
    "\n",
    "rectangle_info(2,10)"
   ]
  },
  {
   "cell_type": "code",
   "execution_count": null,
   "id": "dfb55775-760f-43b2-977a-6d28774de736",
   "metadata": {},
   "outputs": [],
   "source": [
    "def rectangle_info(l,w):\n",
    "    area = l*w\n",
    "    k = 2*l + 2*w\n",
    "    return area,k\n",
    "\n",
    "rectangle_info(2,10)"
   ]
  },
  {
   "cell_type": "code",
   "execution_count": 1,
   "id": "94d057b8-bf41-460a-b3c8-4e8459be7ba9",
   "metadata": {},
   "outputs": [
    {
     "data": {
      "text/plain": [
       "'Fries'"
      ]
     },
     "execution_count": 1,
     "metadata": {},
     "output_type": "execute_result"
    }
   ],
   "source": [
    "Menu = {'meal_1':'Spaghetti', 'meal_2':'Fries', 'meal_3':'Hamburger', 'meal_4':'Lasagna'}\n",
    "Menu[\"meal_2\"]"
   ]
  },
  {
   "cell_type": "code",
   "execution_count": null,
   "id": "d6526db7-5fc6-4f26-9906-36efd8654007",
   "metadata": {},
   "outputs": [],
   "source": [
    "Menu = {'meal_1':'Spaghetti', 'meal_2':'Fries', 'meal_3':'Hamburger', 'meal_4':'Lasagna'}\n",
    "\n",
    "Menu[\"meal_5\"] = 'Soup'"
   ]
  },
  {
   "cell_type": "code",
   "execution_count": null,
   "id": "3bd8b084-7144-4549-b722-5364b2badb27",
   "metadata": {},
   "outputs": [],
   "source": [
    "Menu"
   ]
  },
  {
   "cell_type": "code",
   "execution_count": null,
   "id": "a2e52fef-6f8a-4e3a-be9a-c16b6a5bca3d",
   "metadata": {},
   "outputs": [],
   "source": [
    "Menu = {'meal_1':'Spaghetti', 'meal_2':'Fries', 'meal_3':'Hamburger', 'meal_4':'Lasagna'}\n",
    "\n",
    "Menu[\"meal_3\"] = \"Cheeseburger\""
   ]
  },
  {
   "cell_type": "code",
   "execution_count": null,
   "id": "ff57f657-8743-44a3-ab6e-2fab689079c8",
   "metadata": {},
   "outputs": [],
   "source": [
    "Menu = {'meal_1':'Spaghetti', 'meal_2':'Fries', 'meal_3':'Cheeseburger', 'meal_4':'Lasagna'}\n",
    "Dessert = ['Pancakes', 'Ice-cream', 'Tiramisu']\n",
    "\n",
    "Menu[\"meal_5\", \"meal_6\", \"meal_7\"] = Dessert\n",
    "Menu"
   ]
  },
  {
   "cell_type": "code",
   "execution_count": null,
   "id": "87e7c49e-3a8a-4645-8304-f19b81d0fbf8",
   "metadata": {},
   "outputs": [],
   "source": [
    "Menu = {'meal_1':'Spaghetti', 'meal_2':'Fries', 'meal_3':'Cheeseburger', 'meal_4':'Lasagna'}\n",
    "Dessert = ['Pancakes', 'Ice-cream', 'Tiramisu']\n",
    "\n",
    "Menu[\"menu_6\"] = Dessert"
   ]
  },
  {
   "cell_type": "code",
   "execution_count": null,
   "id": "46923f29-b9ea-426a-b93f-5392365b6616",
   "metadata": {},
   "outputs": [],
   "source": [
    "Menu = {'meal_1':'Spaghetti', 'meal_2':'Fries', 'meal_3':'Cheeseburger', 'meal_4':'Lasagna', 'meal_5':'Soup'}\n",
    "\n",
    "Price_list = {Menu['meal_1']:10, Menu['meal_2']:5, Menu['meal_3']:8, Menu['meal_4']:12, Menu['meal_5']:5}\n",
    "Price_list"
   ]
  },
  {
   "cell_type": "code",
   "execution_count": null,
   "id": "e61e52b3-d236-4903-9491-593a9366c9e5",
   "metadata": {},
   "outputs": [],
   "source": [
    "Menu = {'meal_1':'Spaghetti', 'meal_2':'Fries', 'meal_3':'Cheeseburger', 'meal_4':'Lasagna'}\n",
    "Dessert = ['Pancakes', 'Ice-cream', 'Tiramisu']\n",
    "\n",
    "Menu[\"menu_6\"] = Dessert"
   ]
  },
  {
   "cell_type": "code",
   "execution_count": null,
   "id": "6753ad6f-fb05-4e20-9d52-db863465f18a",
   "metadata": {},
   "outputs": [],
   "source": [
    "price = (10, 5, 8, 12, 5)\n",
    "index = 0\n",
    "for a in Menu.values():\n",
    "    #print(a, index)\n",
    "    Price_list[a] = price[index]\n",
    "    #print(Price_list)\n",
    "    index = index + 1\n",
    "Price_list"
   ]
  },
  {
   "cell_type": "code",
   "execution_count": null,
   "id": "fffaabdd-6a81-4ac9-9c66-df917d9dd1a4",
   "metadata": {},
   "outputs": [],
   "source": [
    "Price_list"
   ]
  },
  {
   "cell_type": "code",
   "execution_count": null,
   "id": "7b3f7306-17bd-424f-85e4-01af4ed6fe2c",
   "metadata": {},
   "outputs": [],
   "source": [
    "Price_list = {'Cheeseburger': 8, 'Fries': 5, 'Lasagna': 12, 'Soup': 5, 'Spaghetti': 10}\n",
    "\n",
    "print(Price_list.get('Spaghetti'))"
   ]
  },
  {
   "cell_type": "code",
   "execution_count": null,
   "id": "3729cb45-2a9a-4648-b3f7-4312e88c5b44",
   "metadata": {},
   "outputs": [],
   "source": [
    "digits = [0,1,2,3,4,5,6,7,8,9]\n",
    "\n",
    "for n in digits:\n",
    "    print(n)"
   ]
  },
  {
   "cell_type": "code",
   "execution_count": null,
   "id": "133e0197-fefa-4cba-98e6-90d6f49e0f7f",
   "metadata": {},
   "outputs": [],
   "source": [
    "digits = [0,1,2,3,4,5,6,7,8,9]\n",
    "\n",
    "for d in digits:\n",
    "    print (d, end = \" \")"
   ]
  },
  {
   "cell_type": "code",
   "execution_count": null,
   "id": "a076660c-fa59-4004-ae34-9a9ca60b791e",
   "metadata": {},
   "outputs": [],
   "source": [
    "x = 0\n",
    "while x <= 20:\n",
    "    print(x, end = \" \")\n",
    "    x = x + 2"
   ]
  },
  {
   "cell_type": "code",
   "execution_count": null,
   "id": "55c17473-f66b-4d18-ba76-96f652fd2d7d",
   "metadata": {},
   "outputs": [],
   "source": [
    "x = 0\n",
    "while x <= 20:\n",
    "    x = x + 2\n",
    "    print(x, end = \" \")"
   ]
  },
  {
   "cell_type": "code",
   "execution_count": null,
   "id": "3a5f1a4b-153c-4164-8182-9d1a8599e5d9",
   "metadata": {},
   "outputs": [],
   "source": [
    "x = 0\n",
    "while x <= 30:\n",
    "    genap = x % 2\n",
    "    if genap != 0:\n",
    "        print(x, end = \" \")\n",
    "    x  = x + 1"
   ]
  },
  {
   "cell_type": "code",
   "execution_count": null,
   "id": "6444dccd-be3b-44e9-b51d-d82cdd60e9ce",
   "metadata": {},
   "outputs": [],
   "source": [
    "10 % 2"
   ]
  },
  {
   "cell_type": "code",
   "execution_count": null,
   "id": "e3bf6890-817e-4120-8d18-6590021e5cc3",
   "metadata": {},
   "outputs": [],
   "source": [
    "list(range(1,10))"
   ]
  },
  {
   "cell_type": "code",
   "execution_count": null,
   "id": "4706ddf0-cbe2-44c5-b80e-dfaf9c563411",
   "metadata": {},
   "outputs": [],
   "source": [
    "list(range(0,31,2))"
   ]
  },
  {
   "cell_type": "code",
   "execution_count": null,
   "id": "885a4acb-6772-43f2-a4ff-f27025b30829",
   "metadata": {},
   "outputs": [],
   "source": [
    "x = range(1,11)\n",
    "for loop in x:\n",
    "    print(loop * 2, end = \" \")"
   ]
  },
  {
   "cell_type": "code",
   "execution_count": null,
   "id": "09af5805-de53-474c-88a8-4e30f1fb9daf",
   "metadata": {},
   "outputs": [],
   "source": [
    "x = range(1,31)\n",
    "for item in x:\n",
    "    if item % 2 == 0:\n",
    "        print('Even', end = \" \")\n",
    "    else:\n",
    "        print(item, end = \" \")"
   ]
  },
  {
   "cell_type": "code",
   "execution_count": null,
   "id": "17aa2d67-f48d-49c2-b24d-67274f5b0caf",
   "metadata": {},
   "outputs": [],
   "source": [
    "n = [1,2,3,4,5,6]\n",
    "for loop in n:\n",
    "    print(loop * 10, end = \" \")"
   ]
  },
  {
   "cell_type": "code",
   "execution_count": null,
   "id": "e8190985-1e99-4a7c-8342-11b4ac712993",
   "metadata": {},
   "outputs": [],
   "source": [
    "n = [1,2,3,4,5,6]\n",
    "for loop in range(len(n)):\n",
    "    print(n[loop] * 10, end = \" \")"
   ]
  },
  {
   "cell_type": "code",
   "execution_count": null,
   "id": "0d223622-9790-4f90-929c-5fea86cb0010",
   "metadata": {},
   "outputs": [],
   "source": [
    "list(range(len(n)))\n",
    "n"
   ]
  },
  {
   "cell_type": "code",
   "execution_count": null,
   "id": "27793689-0f8b-4527-89bd-ff6b2ada894c",
   "metadata": {},
   "outputs": [],
   "source": [
    "def count(number):\n",
    "    result = 0\n",
    "    for item in number:\n",
    "        if item < 20:\n",
    "            result = result + 1\n",
    "    return result\n",
    "\n",
    "count(m)"
   ]
  },
  {
   "cell_type": "code",
   "execution_count": null,
   "id": "bb26e609-208b-4a04-a73e-fa5775a857e3",
   "metadata": {},
   "outputs": [],
   "source": [
    "m = [20, 21, 1, 50, 5]"
   ]
  },
  {
   "cell_type": "markdown",
   "id": "10c6e969-ac71-425e-9739-888bc3923e0b",
   "metadata": {},
   "source": [
    "You are provided with the nums list. Complete the code in the cell that follows. Use a while loop to count the number of values lower than 20."
   ]
  },
  {
   "cell_type": "code",
   "execution_count": null,
   "id": "91f46da3-0f0e-4a37-97e6-fb3597172f8d",
   "metadata": {},
   "outputs": [],
   "source": [
    "nums = [1,35,12,24,31,51,70,100]\n",
    "\n",
    "x = 0\n",
    "result = 0\n",
    "while x < len(nums):\n",
    "    if nums[x] < 20:\n",
    "        result += 1\n",
    "    x = x + 1\n",
    "print(result)"
   ]
  },
  {
   "cell_type": "code",
   "execution_count": null,
   "id": "27bed545-7d73-42d9-80b9-52d60d89224a",
   "metadata": {},
   "outputs": [],
   "source": [
    "nums = [1,35,12,24,31,51,70,100]\n",
    "\n",
    "def count(list):\n",
    "    x = 0\n",
    "    result = 0\n",
    "    while x < len(list):\n",
    "        if list[x] < 20:\n",
    "            result += 1\n",
    "        x = x + 1\n",
    "    return result\n",
    "\n",
    "count(nums)"
   ]
  },
  {
   "cell_type": "code",
   "execution_count": 2,
   "id": "48e3622d-35ad-46ac-afab-3eb0e9b85e53",
   "metadata": {},
   "outputs": [
    {
     "data": {
      "text/plain": [
       "{'meal_1': 'Spaghetti',\n",
       " 'meal_2': 'Fries',\n",
       " 'meal_3': 'Hamburger',\n",
       " 'meal_4': 'Lasagna'}"
      ]
     },
     "execution_count": 2,
     "metadata": {},
     "output_type": "execute_result"
    }
   ],
   "source": [
    "Menu"
   ]
  },
  {
   "cell_type": "code",
   "execution_count": 5,
   "id": "740b96f2-c357-43fb-a3eb-3210a1334ea9",
   "metadata": {},
   "outputs": [
    {
     "name": "stdout",
     "output_type": "stream",
     "text": [
      "Spaghetti\n",
      "Fries\n",
      "Hamburger\n",
      "Lasagna\n"
     ]
    }
   ],
   "source": [
    "for item in Menu:\n",
    "    print(Menu[item])"
   ]
  },
  {
   "cell_type": "code",
   "execution_count": 8,
   "id": "f483b16c-b9bf-48e1-bdb3-623607a76add",
   "metadata": {},
   "outputs": [
    {
     "name": "stdout",
     "output_type": "stream",
     "text": [
      "3\n",
      "5\n",
      "8\n"
     ]
    }
   ],
   "source": [
    "list = [3,5,8]\n",
    "for item in list:\n",
    "    print(item)"
   ]
  },
  {
   "cell_type": "code",
   "execution_count": 9,
   "id": "c64a6546-7d07-4521-b784-ce5cfe1e78b7",
   "metadata": {},
   "outputs": [
    {
     "name": "stdout",
     "output_type": "stream",
     "text": [
      "meal_1\n",
      "meal_2\n",
      "meal_3\n",
      "meal_4\n"
     ]
    }
   ],
   "source": [
    "for item in Menu:\n",
    "    print(item)"
   ]
  },
  {
   "cell_type": "markdown",
   "id": "e0302e68-738c-4231-940f-4132f16727f0",
   "metadata": {},
   "source": [
    "In this exercise you will use the same dictionaries as the ones we used in the lesson - prices and quantity. This time, don't just calculate all the money Jan spent. Calculate how much she spent on products with a price of 5 dollars or more.\n"
   ]
  },
  {
   "cell_type": "code",
   "execution_count": 15,
   "id": "e187403e-3b87-4fcd-b39b-64d759f1836f",
   "metadata": {},
   "outputs": [
    {
     "name": "stdout",
     "output_type": "stream",
     "text": [
      "50\n"
     ]
    }
   ],
   "source": [
    "prices = {\n",
    "    \"box_of_spaghetti\" : 4,\n",
    "    \"lasagna\"  : 5,\n",
    "    \"hamburger\" : 2\n",
    "   }\n",
    "quantity = {\n",
    "    \"box_of_spaghetti\" : 6,\n",
    "    \"lasagna\"  : 10,\n",
    "    \"hamburger\" : 0\n",
    "    }\n",
    "\n",
    "money_spent = 0\n",
    "for item in prices:\n",
    "    if prices[item] >= 5:\n",
    "        money_spent = money_spent + (prices[item] * quantity[item])\n",
    "print(money_spent)"
   ]
  },
  {
   "cell_type": "code",
   "execution_count": 16,
   "id": "516113d7-aaf9-4898-9a34-9d2f1d645d27",
   "metadata": {},
   "outputs": [
    {
     "name": "stdout",
     "output_type": "stream",
     "text": [
      "24\n"
     ]
    }
   ],
   "source": [
    "prices = {\n",
    "    \"box_of_spaghetti\" : 4,\n",
    "    \"lasagna\"  : 5,\n",
    "    \"hamburger\" : 2\n",
    "   }\n",
    "quantity = {\n",
    "    \"box_of_spaghetti\" : 6,\n",
    "    \"lasagna\"  : 10,\n",
    "    \"hamburger\" : 0\n",
    "    }\n",
    "\n",
    "money_spent = 0\n",
    "for item in prices:\n",
    "    if prices[item] < 5:\n",
    "        money_spent = money_spent + (prices[item] * quantity[item])\n",
    "print(money_spent)"
   ]
  },
  {
   "cell_type": "code",
   "execution_count": null,
   "id": "ef53955e-5d49-49e5-a2b7-204920c25ad0",
   "metadata": {},
   "outputs": [],
   "source": []
  }
 ],
 "metadata": {
  "kernelspec": {
   "display_name": "Python 3 (ipykernel)",
   "language": "python",
   "name": "python3"
  },
  "language_info": {
   "codemirror_mode": {
    "name": "ipython",
    "version": 3
   },
   "file_extension": ".py",
   "mimetype": "text/x-python",
   "name": "python",
   "nbconvert_exporter": "python",
   "pygments_lexer": "ipython3",
   "version": "3.11.7"
  }
 },
 "nbformat": 4,
 "nbformat_minor": 5
}
